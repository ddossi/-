{
 "cells": [
  {
   "cell_type": "markdown",
   "metadata": {},
   "source": [
    "## Map, Filter, Reduce"
   ]
  },
  {
   "cell_type": "markdown",
   "metadata": {},
   "source": [
    "### Missions"
   ]
  },
  {
   "cell_type": "markdown",
   "metadata": {},
   "source": [
    "> 미션1 : 리스트를 받아서, 제곱수의 리스트\n",
    ">- n개가 입력되면 n개가 출력 : Map\n",
    ">- Input: 1부터 10까지의 자연수 ⇒ Output : [ 1, 4, 9, ..., 100 ]\n",
    "\n",
    "> 미션2 : 리스트를 받아서, 양수인 element 만 새로운 리스트\n",
    ">- n개가 입력되면 조건의 맞는 m개가 출력 : Filter\n",
    ">- Input: [1, -2, 3, -4, 5] ⇒ Output : [1, 3, 5]"
   ]
  },
  {
   "cell_type": "markdown",
   "metadata": {},
   "source": [
    "### 미션1 : Map"
   ]
  },
  {
   "cell_type": "code",
   "execution_count": 33,
   "metadata": {},
   "outputs": [],
   "source": [
    "def get_square(number):\n",
    "    return number ** 2\n",
    "\n",
    "def get_square_list(numbers):\n",
    "    elements = []\n",
    "    for number in numbers:\n",
    "        elements.append(get_square(number))\n",
    "    return elements"
   ]
  },
  {
   "cell_type": "code",
   "execution_count": 34,
   "metadata": {},
   "outputs": [
    {
     "data": {
      "text/plain": [
       "[1, 4, 9, 16, 25, 36, 49, 64, 81, 100]"
      ]
     },
     "execution_count": 34,
     "metadata": {},
     "output_type": "execute_result"
    }
   ],
   "source": [
    "numbers = list(range(1, 11))\n",
    "get_square_list(numbers)"
   ]
  },
  {
   "cell_type": "markdown",
   "metadata": {},
   "source": [
    "### 미션2 : Filter"
   ]
  },
  {
   "cell_type": "code",
   "execution_count": 35,
   "metadata": {},
   "outputs": [],
   "source": [
    "def get_positive_list(numbers):\n",
    "    elements = []\n",
    "    for number in numbers:\n",
    "        if number > 0:\n",
    "            elements.append(number)\n",
    "    return elements   "
   ]
  },
  {
   "cell_type": "code",
   "execution_count": 36,
   "metadata": {},
   "outputs": [
    {
     "data": {
      "text/plain": [
       "[1, 3, 5]"
      ]
     },
     "execution_count": 36,
     "metadata": {},
     "output_type": "execute_result"
    }
   ],
   "source": [
    "numbers = [1, -2, 3, -4, 5]\n",
    "get_positive_list(numbers)"
   ]
  },
  {
   "cell_type": "code",
   "execution_count": 37,
   "metadata": {},
   "outputs": [],
   "source": [
    "from functools import *"
   ]
  },
  {
   "cell_type": "markdown",
   "metadata": {},
   "source": [
    "### map\n",
    ">\n",
    ">- 입력값과 출력값이 1:1로 맵핑된다.\n",
    ">- 즉, 한번만에 즉시 연산\n",
    ">- cf. generator => 한번에 연산 X"
   ]
  },
  {
   "cell_type": "code",
   "execution_count": 38,
   "metadata": {},
   "outputs": [
    {
     "data": {
      "text/plain": [
       "[1, 4, 9, 16, 25]"
      ]
     },
     "execution_count": 38,
     "metadata": {},
     "output_type": "execute_result"
    }
   ],
   "source": [
    "list(map(get_square, [1,2,3,4,5]))"
   ]
  },
  {
   "cell_type": "code",
   "execution_count": 39,
   "metadata": {},
   "outputs": [
    {
     "data": {
      "text/plain": [
       "[1, 4, 9, 16, 25]"
      ]
     },
     "execution_count": 39,
     "metadata": {},
     "output_type": "execute_result"
    }
   ],
   "source": [
    "list(map(lambda x: x**2,[1,2,3,4,5]))"
   ]
  },
  {
   "cell_type": "code",
   "execution_count": 40,
   "metadata": {},
   "outputs": [
    {
     "data": {
      "text/plain": [
       "[1, 4, 9, 16, 25]"
      ]
     },
     "execution_count": 40,
     "metadata": {},
     "output_type": "execute_result"
    }
   ],
   "source": [
    "def get_square_list(numbers):\n",
    "    return list(map(lambda x: x ** 2, numbers))\n",
    "\n",
    "get_square_list([1, 2, 3, 4, 5])"
   ]
  },
  {
   "cell_type": "markdown",
   "metadata": {},
   "source": [
    "### filter\n",
    ">\n",
    ">- 함수: 리스트를 받아서, 양수인 element 만 새로운 리스트\n",
    ">- input: [1, -2, 3, -4, 5] => [1, 3, 5]"
   ]
  },
  {
   "cell_type": "code",
   "execution_count": 41,
   "metadata": {},
   "outputs": [
    {
     "data": {
      "text/plain": [
       "[1, 3, 5]"
      ]
     },
     "execution_count": 41,
     "metadata": {},
     "output_type": "execute_result"
    }
   ],
   "source": [
    "numbers = [1, -2,  3, -4,  5]\n",
    "\n",
    "list(map(lambda x: x > 0,numbers)) # Boolean List / Boolean Mask, Filtering Mask\n",
    "\n",
    "list(filter(lambda x: x > 0,numbers))\n",
    "\n",
    "# map - element func apply\n",
    "# filter - element func apply, filtering when True ( Filtering Mask )"
   ]
  },
  {
   "cell_type": "code",
   "execution_count": 42,
   "metadata": {},
   "outputs": [
    {
     "data": {
      "text/plain": [
       "[1, 3, 5]"
      ]
     },
     "execution_count": 42,
     "metadata": {},
     "output_type": "execute_result"
    }
   ],
   "source": [
    "def get_positive_list(numbers):\n",
    "    elements = []\n",
    "    for number in numbers:\n",
    "        if number > 0:               # False, False, True, True\n",
    "            elements.append(number)\n",
    "    return elements\n",
    "\n",
    "get_positive_list(numbers)"
   ]
  },
  {
   "cell_type": "code",
   "execution_count": 43,
   "metadata": {},
   "outputs": [
    {
     "data": {
      "text/plain": [
       "[1, 3, 5]"
      ]
     },
     "execution_count": 43,
     "metadata": {},
     "output_type": "execute_result"
    }
   ],
   "source": [
    "[number for number in numbers if number > 0]"
   ]
  },
  {
   "cell_type": "code",
   "execution_count": 44,
   "metadata": {},
   "outputs": [],
   "source": [
    "list(filter(lambda x: x > 0,numbers))\n",
    "\n",
    "def get_positive_list(numbers):\n",
    "    return list(filter(lambda x: x > 0, numbers))\n",
    "\n",
    "get_positive_list([1, -2,  3, -4,  5])\n",
    "\n",
    "get_positive_list = lambda numbers: list(filter(lambda x: x > 0, numbers)) \n",
    "#lambda numbers에서 numbers는 함수에서의 매개변수 역할\n",
    "#lambda x: x > 0, numbers에선 numbers에서 한 개씩 나와서 x에 저장"
   ]
  },
  {
   "cell_type": "code",
   "execution_count": 45,
   "metadata": {},
   "outputs": [
    {
     "data": {
      "text/plain": [
       "[1, 3, 5]"
      ]
     },
     "execution_count": 45,
     "metadata": {},
     "output_type": "execute_result"
    }
   ],
   "source": [
    "get_positive_list([1, -2,  3, -4,  5])"
   ]
  },
  {
   "cell_type": "markdown",
   "metadata": {},
   "source": [
    "### reduce\n",
    ">\n",
    ">- 입력값을 순차적으로 한개씩 받아서 최종결과값을 갱신한다.\n",
    ">- 입력값이 아무리 많아도 출력값은 오직 한 개이다.\n",
    "\n",
    "\n",
    "# ★reduce의 매개함수는 대부분 2개다!!!!!!"
   ]
  },
  {
   "cell_type": "code",
   "execution_count": 46,
   "metadata": {},
   "outputs": [],
   "source": [
    "# 1. 리스트를 받아서, 리스트의 숫자들 의 곱 | [1, 2, 3, 4] => 24\n",
    "# 2. 리스트를 받아서, 리스트 중에서 제일 큰 수 | [-1, 0, 2, 4, 3] => 4"
   ]
  },
  {
   "cell_type": "code",
   "execution_count": 47,
   "metadata": {},
   "outputs": [
    {
     "data": {
      "text/plain": [
       "24"
      ]
     },
     "execution_count": 47,
     "metadata": {},
     "output_type": "execute_result"
    }
   ],
   "source": [
    "# 1. 곱\n",
    "\n",
    "def get_multiply(numbers):\n",
    "    result = 1\n",
    "    for number in numbers:\n",
    "        result *= number\n",
    "    return result\n",
    "\n",
    "get_multiply([1, 2, 3, 4])\n",
    "\n",
    "# 1, 1, 2, 3, 4\n",
    "#    1, 2, 3, 4\n",
    "#       2, 3, 4\n",
    "#          6, 4\n",
    "#            24"
   ]
  },
  {
   "cell_type": "code",
   "execution_count": 48,
   "metadata": {},
   "outputs": [
    {
     "data": {
      "text/plain": [
       "5"
      ]
     },
     "execution_count": 48,
     "metadata": {},
     "output_type": "execute_result"
    }
   ],
   "source": [
    "# 2. 최대값\n",
    "\n",
    "def get_max(numbers):\n",
    "    result = numbers[0]  # 만약에, 0이라고 했을 때 => 음수의 리스트 \n",
    "    for number in numbers:\n",
    "        if result < number:\n",
    "            result = number\n",
    "    return result\n",
    "\n",
    "get_max([3, -1, 5, -6])\n",
    "\n",
    "# 3, -1, 5, -6\n",
    "#     3, 5, -6\n",
    "#        5, -6\n",
    "#            5\n"
   ]
  },
  {
   "cell_type": "code",
   "execution_count": 56,
   "metadata": {},
   "outputs": [],
   "source": [
    "# 최종적인 output \n",
    "# [init, a, b, c, d, e] => result"
   ]
  },
  {
   "cell_type": "code",
   "execution_count": 57,
   "metadata": {},
   "outputs": [
    {
     "data": {
      "text/plain": [
       "5"
      ]
     },
     "execution_count": 57,
     "metadata": {},
     "output_type": "execute_result"
    }
   ],
   "source": [
    "def get_bigger(a, b):\n",
    "    return a if a > b else b\n",
    "\n",
    "reduce(get_bigger, [3, -1, 5, -6]) # get_max"
   ]
  },
  {
   "cell_type": "code",
   "execution_count": 58,
   "metadata": {},
   "outputs": [
    {
     "data": {
      "text/plain": [
       "2"
      ]
     },
     "execution_count": 58,
     "metadata": {},
     "output_type": "execute_result"
    }
   ],
   "source": [
    "get_bigger(1, 2)"
   ]
  },
  {
   "cell_type": "code",
   "execution_count": 59,
   "metadata": {},
   "outputs": [
    {
     "data": {
      "text/plain": [
       "40"
      ]
     },
     "execution_count": 59,
     "metadata": {},
     "output_type": "execute_result"
    }
   ],
   "source": [
    "reduce(get_bigger,[1, 2, 40, 3, -1, 5, -6])  "
   ]
  },
  {
   "cell_type": "code",
   "execution_count": 60,
   "metadata": {},
   "outputs": [
    {
     "data": {
      "text/plain": [
       "5"
      ]
     },
     "execution_count": 60,
     "metadata": {},
     "output_type": "execute_result"
    }
   ],
   "source": [
    "def get_bigger(a, b):\n",
    "    return a if a > b else b\n",
    "\n",
    "reduce(get_bigger, [3, -1, 5, -6]) # get_max"
   ]
  },
  {
   "cell_type": "code",
   "execution_count": 62,
   "metadata": {},
   "outputs": [
    {
     "data": {
      "text/plain": [
       "5"
      ]
     },
     "execution_count": 62,
     "metadata": {},
     "output_type": "execute_result"
    }
   ],
   "source": [
    "reduce(lambda x, y: x if x > y else y, [3, -1, 5, -6])"
   ]
  },
  {
   "cell_type": "code",
   "execution_count": 61,
   "metadata": {},
   "outputs": [
    {
     "data": {
      "text/plain": [
       "5"
      ]
     },
     "execution_count": 61,
     "metadata": {},
     "output_type": "execute_result"
    }
   ],
   "source": [
    "def get_max(numbers):\n",
    "    return reduce(lambda x, y: x if x > y else y, numbers)\n",
    "\n",
    "get_max([3, -1, 5, -6])"
   ]
  },
  {
   "cell_type": "code",
   "execution_count": 54,
   "metadata": {},
   "outputs": [],
   "source": [
    "# 리스트를 받아서, 모든 엘리먼트를 곱하는 기능\n",
    "\n",
    "# 1, 1, 2, 3, 4, 5 => 120"
   ]
  },
  {
   "cell_type": "code",
   "execution_count": 55,
   "metadata": {},
   "outputs": [
    {
     "name": "stdout",
     "output_type": "stream",
     "text": [
      "(1, 1)\n",
      "(1, 2)\n",
      "(2, 3)\n",
      "(6, 4)\n",
      "(24, 5)\n"
     ]
    },
    {
     "data": {
      "text/plain": [
       "120"
      ]
     },
     "execution_count": 55,
     "metadata": {},
     "output_type": "execute_result"
    }
   ],
   "source": [
    "def multiply(a, b):\n",
    "    print((a, b))\n",
    "    return a * b\n",
    "\n",
    "reduce(multiply,[1, 2, 3, 4, 5],1) # 기본값!!! (*)"
   ]
  },
  {
   "cell_type": "code",
   "execution_count": 24,
   "metadata": {},
   "outputs": [],
   "source": [
    "# 1. map      - apply\n",
    "# 2. filter   - apply, True\n",
    "# 3. reduce   - apply(a,b)"
   ]
  },
  {
   "cell_type": "markdown",
   "metadata": {},
   "source": [
    "### 실습. Histogram 함수 작성해보기\n",
    ">리스트를 받아서, 히스토그램을 그리는 함수\n",
    ">- 입력값 : [\"cat\", \"cat\", \"cat\", \"sheep\", \"sheep\", \"duck\", \"duck\", \"duck\", \"duck\" ]"
   ]
  },
  {
   "cell_type": "raw",
   "metadata": {},
   "source": [
    "# 1. 히스토그램을 그리는 함수 \n",
    "  input: {'cat': 3, 'duck': 4, 'sheep': 2} => output: 그림 \n",
    "\n",
    "# 2. 리스트를 받아서, 숫자를 세는 함수\n",
    "  input: list => output: histogram dict"
   ]
  },
  {
   "cell_type": "code",
   "execution_count": 25,
   "metadata": {},
   "outputs": [],
   "source": [
    "data = [\"cat\", \"cat\", \"cat\", \"sheep\", \"sheep\", \"duck\", \"duck\", \"duck\", \"duck\" ]"
   ]
  },
  {
   "cell_type": "code",
   "execution_count": 26,
   "metadata": {},
   "outputs": [
    {
     "name": "stdout",
     "output_type": "stream",
     "text": [
      "cat    ===\n",
      "sheep  ==\n",
      "duck   ====\n"
     ]
    }
   ],
   "source": [
    "cat_cnt = 0\n",
    "sheep_cnt = 0\n",
    "duck_cnt = 0\n",
    "\n",
    "for i in data:\n",
    "    if i == \"cat\":\n",
    "        cat_cnt += 1\n",
    "    elif i == \"sheep\":\n",
    "        sheep_cnt += 1\n",
    "    elif i == \"duck\":\n",
    "        duck_cnt += 1\n",
    "\n",
    "print('cat' + ' '*4 + '='*cat_cnt)\n",
    "print('sheep'+' '*2 +'='*sheep_cnt)\n",
    "print('duck'+' '*3 +'='*duck_cnt)"
   ]
  },
  {
   "cell_type": "markdown",
   "metadata": {},
   "source": [
    "### 각자 reduce를 활용하여 아래와 같은 Histogram이 출력되도록 함수를 구현해보세요 !!!"
   ]
  },
  {
   "cell_type": "code",
   "execution_count": 27,
   "metadata": {},
   "outputs": [],
   "source": [
    "def draw_histogram1(data):\n",
    "    cat_cnt = 0\n",
    "    sheep_cnt = 0\n",
    "    duck_cnt = 0\n",
    "\n",
    "    for i in data:\n",
    "        if i == \"cat\":\n",
    "            cat_cnt += 1\n",
    "        elif i == \"sheep\":\n",
    "            sheep_cnt += 1\n",
    "        elif i == \"duck\":\n",
    "            duck_cnt += 1\n",
    "    \n",
    "    print('cat' + ' '*4 + '='*cat_cnt)\n",
    "    print('sheep'+' '*2 +'='*sheep_cnt)\n",
    "    print('duck'+' '*3 +'='*duck_cnt)"
   ]
  },
  {
   "cell_type": "code",
   "execution_count": 28,
   "metadata": {},
   "outputs": [
    {
     "name": "stdout",
     "output_type": "stream",
     "text": [
      "cat    ===\n",
      "sheep  ==\n",
      "duck   ====\n"
     ]
    }
   ],
   "source": [
    "draw_histogram1(data)"
   ]
  },
  {
   "cell_type": "code",
   "execution_count": 31,
   "metadata": {},
   "outputs": [],
   "source": [
    "data = [\"cat\", \"cat\", \"cat\", \"sheep\", \"sheep\", \"duck\", \"duck\", \"duck\", \"duck\" ]\n",
    "\n",
    "def draw_histogram2(data):\n",
    "    \n",
    "    a = reduce(lambda x, y: x + (1 if y == 'cat' else 0), data, 0)\n",
    "    b = reduce(lambda x, y: x + (1 if y == 'sheep' else 0), data, 0)\n",
    "    c = reduce(lambda x, y: x + (1 if y == 'duck' else 0), data, 0)\n",
    "    \n",
    "    print('cat' + ' '*4 + '='*a)\n",
    "    print('sheep'+' '*2 +'='*b)\n",
    "    print('duck'+' '*3 +'='*c)\n",
    "\n",
    "#     print('cat' + ' '*4 + '='*reduce(lambda x, y: x + (1 if y == 'cat' else 0), data, 0))\n",
    "#     print('sheep'+' '*2 +'='*reduce(lambda x, y: x + (1 if y == 'sheep' else 0), data, 0))\n",
    "#     print('duck'+' '*3 +'='*reduce(lambda x, y: x + (1 if y == 'duck' else 0), data, 0))"
   ]
  },
  {
   "cell_type": "code",
   "execution_count": 32,
   "metadata": {},
   "outputs": [
    {
     "name": "stdout",
     "output_type": "stream",
     "text": [
      "cat    ===\n",
      "sheep  ==\n",
      "duck   ====\n"
     ]
    }
   ],
   "source": [
    "draw_histogram2(data)"
   ]
  },
  {
   "cell_type": "code",
   "execution_count": null,
   "metadata": {},
   "outputs": [],
   "source": []
  }
 ],
 "metadata": {
  "kernelspec": {
   "display_name": "Python 3",
   "language": "python",
   "name": "python3"
  },
  "language_info": {
   "codemirror_mode": {
    "name": "ipython",
    "version": 3
   },
   "file_extension": ".py",
   "mimetype": "text/x-python",
   "name": "python",
   "nbconvert_exporter": "python",
   "pygments_lexer": "ipython3",
   "version": "3.8.5"
  }
 },
 "nbformat": 4,
 "nbformat_minor": 4
}
