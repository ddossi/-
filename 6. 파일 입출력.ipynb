{
 "cells": [
  {
   "cell_type": "markdown",
   "metadata": {},
   "source": [
    "# 파일 입출력, File I/O"
   ]
  },
  {
   "cell_type": "code",
   "execution_count": 1,
   "metadata": {},
   "outputs": [],
   "source": [
    "%pwd #현재 위치를 알려줌"
   ]
  },
  {
   "cell_type": "code",
   "execution_count": 2,
   "metadata": {},
   "outputs": [
    {
     "name": "stdout",
     "output_type": "stream",
     "text": [
      " C 드라이브의 볼륨에는 이름이 없습니다.\n",
      " 볼륨 일련 번호: FCE5-90D0\n",
      "\n",
      " C:\\Users\\skc15\\Anaconda_src 디렉터리\n",
      "\n",
      "2020-12-15  오후 11:22    <DIR>          .\n",
      "2020-12-15  오후 11:22    <DIR>          ..\n",
      "2020-12-15  오후 04:52    <DIR>          .ipynb_checkpoints\n",
      "2020-12-09  오후 01:02    <DIR>          __pycache__\n",
      "2020-12-09  오후 11:08            18,407 1. 변수, 데이터형, 제어문.ipynb\n",
      "2020-12-10  오후 03:26            20,314 10. 정규식.ipynb\n",
      "2020-12-15  오후 08:24           114,742 11. Numpy.ipynb\n",
      "2020-12-15  오후 08:34           567,004 12. Pandas 1.ipynb\n",
      "2020-12-15  오후 08:42           277,255 13. Pandas 2.ipynb\n",
      "2020-12-15  오후 06:05            42,937 14. 엑셀.ipynb\n",
      "2020-12-15  오후 11:19            22,442 2. 데이터 구조.ipynb\n",
      "2020-12-15  오후 11:20            36,829 3. 함수.ipynb\n",
      "2020-12-15  오후 11:21            27,760 4. 클래스와 객체.ipynb\n",
      "2020-12-15  오후 11:22            20,010 5. 예외처리.ipynb\n",
      "2020-12-15  오후 05:57         1,711,365 6. 파일 입출력.ipynb\n",
      "2020-12-09  오후 11:40            38,554 7. 모듈.ipynb\n",
      "2020-12-09  오후 11:42            16,583 8. Map, Filter, Reduce.ipynb\n",
      "2020-12-15  오후 04:56            13,725 9. JSON.ipynb\n",
      "2020-12-15  오후 08:41    <DIR>          bpc\n",
      "2020-12-15  오후 06:04    <DIR>          data\n",
      "2020-12-10  오전 10:49             6,161 Homework_Histogram.ipynb\n",
      "2020-12-10  오후 08:49             8,800 Homework_Histogram_final.ipynb\n",
      "2020-12-10  오후 12:27             7,330 Homework_Histogram_other.ipynb\n",
      "2020-12-09  오전 11:14    <DIR>          images\n",
      "2020-12-09  오후 03:03    <DIR>          modules\n",
      "2020-12-09  오후 01:00                93 my_first_module.py\n",
      "2020-12-09  오후 12:38    <DIR>          Tmp\n",
      "2020-12-09  오후 12:31             2,564 기타.ipynb\n",
      "              19개 파일           2,952,875 바이트\n",
      "               9개 디렉터리  126,170,214,400 바이트 남음\n"
     ]
    }
   ],
   "source": [
    "%ls"
   ]
  },
  {
   "cell_type": "code",
   "execution_count": 3,
   "metadata": {},
   "outputs": [],
   "source": [
    "fp = open('./data/hello.txt', 'r') #C:\\\\Users\\\\skc15\\\\Anaconda_src/data/hello.txt'"
   ]
  },
  {
   "cell_type": "code",
   "execution_count": 4,
   "metadata": {},
   "outputs": [
    {
     "data": {
      "text/plain": [
       "'Hello, Hi Academy !! Nice to meet you^^'"
      ]
     },
     "execution_count": 4,
     "metadata": {},
     "output_type": "execute_result"
    }
   ],
   "source": [
    "fp.read()"
   ]
  },
  {
   "cell_type": "code",
   "execution_count": 5,
   "metadata": {},
   "outputs": [],
   "source": [
    "fp.close() \n",
    "#작업이 끝나고 안 닫아주면 메모리에 쓰레기처럼 객체가 존재함\n",
    "#다른 곳에서 열 수도 없음"
   ]
  },
  {
   "cell_type": "code",
   "execution_count": 6,
   "metadata": {},
   "outputs": [],
   "source": [
    "# ?open : 함수가 어떤 역할을 하는지 궁금할 때 ? 사용"
   ]
  },
  {
   "cell_type": "markdown",
   "metadata": {},
   "source": [
    "### Python Docs\n",
    "> https://docs.python.org/3.8/library/functions.html"
   ]
  },
  {
   "cell_type": "code",
   "execution_count": 7,
   "metadata": {},
   "outputs": [
    {
     "name": "stdout",
     "output_type": "stream",
     "text": [
      "Hello, Hi Academy !! Nice to meet you^^\n"
     ]
    }
   ],
   "source": [
    "with open('./data/hello.txt', 'r') as fp: #블럭이 끝나는 순간 자동으로 close 해주므로 close 따로 안 해줘도 됨\n",
    "    data = fp.read()\n",
    "    print(data)"
   ]
  },
  {
   "cell_type": "code",
   "execution_count": 8,
   "metadata": {},
   "outputs": [
    {
     "data": {
      "text/plain": [
       "'Hello, Hi Academy !! Nice to meet you^^'"
      ]
     },
     "execution_count": 8,
     "metadata": {},
     "output_type": "execute_result"
    }
   ],
   "source": [
    "data"
   ]
  },
  {
   "cell_type": "code",
   "execution_count": 9,
   "metadata": {},
   "outputs": [],
   "source": [
    "with open('./data/subject.txt', 'w') as fp:\n",
    "    data = '파이썬을 이용한 빅데이터 분석!!'\n",
    "    fp.write(data)"
   ]
  },
  {
   "cell_type": "code",
   "execution_count": 10,
   "metadata": {},
   "outputs": [
    {
     "name": "stdout",
     "output_type": "stream",
     "text": [
      "파이썬을 이용한 빅데이터 분석!!\n"
     ]
    }
   ],
   "source": [
    "with open('./data/subject.txt', 'r') as fp:\n",
    "    data = fp.read()\n",
    "    print(data)"
   ]
  },
  {
   "cell_type": "markdown",
   "metadata": {},
   "source": [
    "#### FileName : students.csv\n",
    "---> 엑셀에선 다음 셀로 넘어갈 때 tab을 사용하지만 여기선 ,로 사용\n",
    ">- 김태희,서울대,thkim@gmail.com\n",
    ">- 신민아,성균관대,sma@gmial.com\n",
    ">- 전지현,중앙대,jhjeon@gmail.com\n",
    ">- 이영애,숭실대,janggumi@gamil.com"
   ]
  },
  {
   "cell_type": "code",
   "execution_count": 11,
   "metadata": {},
   "outputs": [],
   "source": [
    "def read_csv(filepath):\n",
    "    \n",
    "    fp = open(filepath, 'r', encoding='utf-8')\n",
    "    data = fp.read()\n",
    "    fp.close()\n",
    "    \n",
    "    # return dataL\n",
    "    elements = []\n",
    "    \n",
    "    rows = data.split(\"\\n\")\n",
    "    # print(rows)\n",
    "    for row in rows:        \n",
    "        \n",
    "        fields = row.split(\",\")\n",
    "        # print(fields)\n",
    "        \n",
    "        element = {   \n",
    "            \"name\"   : fields[0],\n",
    "            \"school\" : fields[1],\n",
    "            \"email\"  : fields[2],\n",
    "        }\n",
    "        elements.append(element)\n",
    "    return elements"
   ]
  },
  {
   "cell_type": "code",
   "execution_count": 12,
   "metadata": {},
   "outputs": [
    {
     "data": {
      "text/plain": [
       "'김태희'"
      ]
     },
     "execution_count": 12,
     "metadata": {},
     "output_type": "execute_result"
    }
   ],
   "source": [
    "filepath = 'data/students.csv'\n",
    "student_list = read_csv(filepath)\n",
    "student_list[0]['name']"
   ]
  },
  {
   "cell_type": "code",
   "execution_count": 13,
   "metadata": {},
   "outputs": [],
   "source": [
    "def read_csv(filepath):         # 어떤 헤더가 있는 CSV 파일이든지 읽을 수 있는 함수\n",
    "                                # \",\" 말고 다른 어떤 seperator 가 들어가더라도, \n",
    "                                # CSV 읽을 수 있는 함수\n",
    "                                # \"\\t\", \"::\", \"|\" 이 모든 sep 에 대한 함수!\n",
    "    fp = open(filepath, 'r', encoding='utf-8')\n",
    "    data = fp.read()\n",
    "    fp.close()\n",
    "    \n",
    "    elements = []\n",
    "    \n",
    "    rows = data.split(\"\\n\")\n",
    "    columns = rows[0].split(\",\")    # [\"랭킹\", \"회사이름\", \"영문명\", \"창업자\"]\n",
    "    columns = [key.replace(' ','') for key in columns]\n",
    "    print('columns => key :', columns)\n",
    "    \n",
    "    for row in rows[1:]:\n",
    "        fields = row.split(\",\")\n",
    "        \n",
    "        element = {}\n",
    "        \n",
    "        for idx in range(len(columns)):   # index 의 값으로 비교해야 한다.\n",
    "            column = columns[idx]\n",
    "            field = fields[idx].strip()\n",
    "            element[column] = field\n",
    "        \n",
    "        elements.append(element)\n",
    "        \n",
    "    return elements  "
   ]
  },
  {
   "cell_type": "code",
   "execution_count": 14,
   "metadata": {},
   "outputs": [
    {
     "name": "stdout",
     "output_type": "stream",
     "text": [
      "columns => key : ['랭킹', '회사이름', '영문명', '창업자']\n"
     ]
    },
    {
     "data": {
      "text/plain": [
       "[{'랭킹': '1', '회사이름': '애플', '영문명': 'Apple', '창업자': '스티브잡스'},\n",
       " {'랭킹': '2', '회사이름': '구글', '영문명': 'Google', '창업자': '세르게이브린 & 레리페이지'},\n",
       " {'랭킹': '3', '회사이름': '마이크로소프트', '영문명': 'Microsoft', '창업자': '빌게이츠 & 폴앨런'},\n",
       " {'랭킹': '4', '회사이름': '페이스북', '영문명': 'Facebook', '창업자': '마크쥬크버그'},\n",
       " {'랭킹': '5', '회사이름': '에어비엔비', '영문명': 'Airbnb', '창업자': '브라이언체크키 & 조게비어'}]"
      ]
     },
     "execution_count": 14,
     "metadata": {},
     "output_type": "execute_result"
    }
   ],
   "source": [
    "filepath = 'data/company.csv'\n",
    "read_csv(filepath)"
   ]
  },
  {
   "cell_type": "code",
   "execution_count": 15,
   "metadata": {},
   "outputs": [],
   "source": [
    "def read_csv(filepath):\n",
    "    fp = open(filepath, 'r', encoding='utf-8')\n",
    "    data = fp.read()\n",
    "    fp.close()\n",
    "    \n",
    "    elements = []\n",
    "    \n",
    "    rows = data.split(\"\\n\")\n",
    "    columns_ex = rows[0].split(\",\")\n",
    "    \n",
    "    columns = []\n",
    "    for key in columns_ex:\n",
    "        columns.append(key.replace(\" \",\"\"))\n",
    "    \n",
    "    print('columns => key :', columns)\n",
    "    \n",
    "    for row in rows[1:]:\n",
    "        fields = row.split(\",\")\n",
    "        \n",
    "        element = {}\n",
    "        \n",
    "        for idx in range(len(columns)):\n",
    "            column = columns[idx]\n",
    "            field = fields[idx].strip()\n",
    "            element[column] = field\n",
    "            \n",
    "        elements.append(element)\n",
    "        \n",
    "    return elements"
   ]
  },
  {
   "cell_type": "code",
   "execution_count": 16,
   "metadata": {},
   "outputs": [
    {
     "name": "stdout",
     "output_type": "stream",
     "text": [
      "columns => key : ['랭킹', '회사이름', '영문명', '창업자']\n"
     ]
    },
    {
     "data": {
      "text/plain": [
       "[{'랭킹': '1', '회사이름': '애플', '영문명': 'Apple', '창업자': '스티브잡스'},\n",
       " {'랭킹': '2', '회사이름': '구글', '영문명': 'Google', '창업자': '세르게이브린 & 레리페이지'},\n",
       " {'랭킹': '3', '회사이름': '마이크로소프트', '영문명': 'Microsoft', '창업자': '빌게이츠 & 폴앨런'},\n",
       " {'랭킹': '4', '회사이름': '페이스북', '영문명': 'Facebook', '창업자': '마크쥬크버그'},\n",
       " {'랭킹': '5', '회사이름': '에어비엔비', '영문명': 'Airbnb', '창업자': '브라이언체크키 & 조게비어'}]"
      ]
     },
     "execution_count": 16,
     "metadata": {},
     "output_type": "execute_result"
    }
   ],
   "source": [
    "filepath = 'data/company.csv'\n",
    "read_csv(filepath)"
   ]
  },
  {
   "cell_type": "markdown",
   "metadata": {},
   "source": [
    "## 파일핸들링 & OS 기본명령어"
   ]
  },
  {
   "cell_type": "markdown",
   "metadata": {},
   "source": [
    "### Text 파일 생성"
   ]
  },
  {
   "cell_type": "code",
   "execution_count": 17,
   "metadata": {},
   "outputs": [],
   "source": [
    "def write_txt(filepath):\n",
    "    # 텍스트 파일에 한줄씩 쓰기(writelines)\n",
    "    count = 1\n",
    "    data = []\n",
    "    print('파일에 내용을 저장하려면 내용을 입력하지 말고 [Enter]를 누르세요')\n",
    "    \n",
    "    while True:\n",
    "        text = input('[%d] 파일에 저장할 내용을 입력하세요: ' %count)\n",
    "        if text == '':\n",
    "            break\n",
    "        data.append(text+\"\\n\")\n",
    "        count += 1\n",
    "        \n",
    "    f = open(filepath, 'w')\n",
    "    f.writelines(data) #단순히 write인 경우 한 줄씩 쓰는 것이 불가능\n",
    "    f.close()\n",
    "    \n",
    "    ret = 'TEXT 파일을 생성하였습니다.'\n",
    "    \n",
    "    return ret"
   ]
  },
  {
   "cell_type": "code",
   "execution_count": null,
   "metadata": {},
   "outputs": [
    {
     "name": "stdout",
     "output_type": "stream",
     "text": [
      "파일에 내용을 저장하려면 내용을 입력하지 말고 [Enter]를 누르세요\n"
     ]
    }
   ],
   "source": [
    "filepath = './data/mydata.txt'\n",
    "write_txt(filepath)"
   ]
  },
  {
   "cell_type": "markdown",
   "metadata": {},
   "source": [
    "### Text 파일 복사"
   ]
  },
  {
   "cell_type": "code",
   "execution_count": null,
   "metadata": {},
   "outputs": [],
   "source": [
    "# 텍스트 파일 복사하기(read, write)\n",
    "f = open('./data/mydata.txt', 'r')\n",
    "h = open('./data/mydata_copy.txt', 'w')\n",
    "\n",
    "data = f.read()\n",
    "h.write(data)\n",
    "\n",
    "h.close()\n",
    "f.close()"
   ]
  },
  {
   "cell_type": "code",
   "execution_count": null,
   "metadata": {},
   "outputs": [],
   "source": [
    "with open('./data/mydata.txt', 'r') as fp:\n",
    "    data = fp.read()\n",
    "    print(data)"
   ]
  },
  {
   "cell_type": "markdown",
   "metadata": {},
   "source": [
    "### Image 파일 복사"
   ]
  },
  {
   "cell_type": "code",
   "execution_count": null,
   "metadata": {},
   "outputs": [],
   "source": [
    "from IPython.display import Image\n",
    "\n",
    "origin_img = './images/jms.png'\n",
    "copied_img = './images/jms_copy.png'"
   ]
  },
  {
   "cell_type": "code",
   "execution_count": null,
   "metadata": {},
   "outputs": [],
   "source": [
    "Image(origin_img)"
   ]
  },
  {
   "cell_type": "code",
   "execution_count": null,
   "metadata": {},
   "outputs": [],
   "source": [
    "# 바이너리 파일 복사하기(read, write)\n",
    "bufsize = 1024\n",
    "f = open(origin_img, 'rb')\n",
    "h = open(copied_img, 'wb')\n",
    "\n",
    "data = f.read(bufsize) #이미지를 1kb(1024)씩 자르는 과정, writelines와 유사\n",
    "while data:\n",
    "    h.write(data)\n",
    "    data = f.read(bufsize) \n",
    "    \n",
    "h.close()\n",
    "f.close()"
   ]
  },
  {
   "cell_type": "code",
   "execution_count": null,
   "metadata": {},
   "outputs": [],
   "source": [
    "Image(copied_img)"
   ]
  },
  {
   "cell_type": "markdown",
   "metadata": {},
   "source": [
    "## OS 기본명령어"
   ]
  },
  {
   "cell_type": "markdown",
   "metadata": {},
   "source": [
    "### 파일 크기 구하기(ospathgetsize) "
   ]
  },
  {
   "cell_type": "code",
   "execution_count": null,
   "metadata": {},
   "outputs": [],
   "source": [
    "# 파일 크기 구하기(ospathgetsize)\n",
    "from os.path import getsize\n",
    "\n",
    "file1 = './data/mydata_copy.txt'\n",
    "file2 = './images/jms.png'\n",
    "\n",
    "# full path: OK !!\n",
    "# file2 = '/Users/kc5/Anaconda_src/images/jms.png'\n",
    "\n",
    "# full path: SyntaxError\n",
    "# file2 = 'C:\\Users\\kc5\\Anaconda_src\\images\\jms.png'\n",
    "\n",
    "file_size1 = getsize(file1)\n",
    "file_size2 = getsize(file2)\n",
    "\n",
    "print('File Name: %s \\t File Size: %d Byte' %(file1, file_size1))\n",
    "print('File Name: %s \\t File Size: %d Byte' %(file2, file_size2))"
   ]
  },
  {
   "cell_type": "markdown",
   "metadata": {},
   "source": [
    "### 파일 삭제하기(osremove)"
   ]
  },
  {
   "cell_type": "code",
   "execution_count": null,
   "metadata": {},
   "outputs": [],
   "source": [
    "from os import remove\n",
    "\n",
    "target_file = './data/mydata_copy.txt'\n",
    "k = input('[%s] 파일을 삭제하겠습니까? ([y]/n)' %target_file)\n",
    "\n",
    "if k == 'y' or k == '':\n",
    "    remove(target_file)\n",
    "    print('[%s] 파일을 삭제했습니다.' %target_file)"
   ]
  },
  {
   "cell_type": "markdown",
   "metadata": {},
   "source": [
    "### 파일이름 바꾸기(osrename)"
   ]
  },
  {
   "cell_type": "code",
   "execution_count": null,
   "metadata": {},
   "outputs": [],
   "source": [
    "# 파일이름 바꾸기(osrename)\n",
    "from os import rename\n",
    "\n",
    "folder_path = './data/'\n",
    "target_file = folder_path + 'mydata.txt'\n",
    "newname = input('[%s]에 대한 새로운 파일 이름을 입력하세요: ' %target_file)\n",
    "\n",
    "new_file = folder_path + newname\n",
    "rename(target_file, new_file)\n",
    "print('[%s] -> [%s] 로 파일이름이 변경되었습니다.' %(target_file, new_file))"
   ]
  },
  {
   "cell_type": "markdown",
   "metadata": {},
   "source": [
    "### 파일을 다른 디렉터리로 이동하기(osrename)"
   ]
  },
  {
   "cell_type": "code",
   "execution_count": null,
   "metadata": {},
   "outputs": [],
   "source": [
    "# 파일을 다른 디렉터리로 이동하기(osrename)\n",
    "from os import rename\n",
    "\n",
    "# target_file = 'yourdata.txt'\n",
    "target_file = new_file\n",
    "newpath = input('[%s]를 이동할 디렉터리의 절대경로를 입력하세요: ' %target_file)\n",
    "\n",
    "if newpath[-1] == '/':\n",
    "    newname = newpath + target_file\n",
    "else:\n",
    "    newname = newpath + '/' + target_file\n",
    "\n",
    "try:\n",
    "    rename(target_file, newname)\n",
    "    print('[%s] -> [%s]로 이동되었습니다.' %(target_file, newname))\n",
    "except FileNotFoundError as e:\n",
    "    print(e)"
   ]
  },
  {
   "cell_type": "markdown",
   "metadata": {},
   "source": [
    "### 디렉터리에 있는 파일목록 얻기(os.listdir, glob.glob)"
   ]
  },
  {
   "cell_type": "code",
   "execution_count": null,
   "metadata": {},
   "outputs": [],
   "source": [
    "# 디렉터리에 있는 파일목록 얻기(os.listdir, glob.glob)\n",
    "import os, glob\n",
    "\n",
    "# folder = 'E:/devlab'\n",
    "folder = 'data'\n",
    "file_list1 = os.listdir(folder)\n",
    "print(file_list1)\n",
    "\n",
    "# files = '*.txt'\n",
    "files = 'data/*.txt'\n",
    "file_list2 = glob.glob(files)\n",
    "print(file_list2)"
   ]
  },
  {
   "cell_type": "markdown",
   "metadata": {},
   "source": [
    "### 현재 디렉터리 확인하고 바꾸기(os.getcwd, os.chdir)"
   ]
  },
  {
   "cell_type": "code",
   "execution_count": null,
   "metadata": {},
   "outputs": [],
   "source": [
    "# 현재 디렉터리 확인하고 바꾸기(os.getcwd, os.chdir)\n",
    "import os\n",
    "\n",
    "pdir = os.getcwd(); print(pdir) #getcwd(): 현재 dir 나타내는 명령어\n",
    "os.chdir('data');   print(os.getcwd()) #change directory\n",
    "os.chdir('..');     print(os.getcwd())\n",
    "os.chdir(pdir);     print(os.getcwd())"
   ]
  },
  {
   "cell_type": "markdown",
   "metadata": {},
   "source": [
    "### 디렉터리 생성하기(osmkdir)"
   ]
  },
  {
   "cell_type": "code",
   "execution_count": null,
   "metadata": {},
   "outputs": [],
   "source": [
    "# 디렉터리 생성하기(osmkdir)\n",
    "import os\n",
    "\n",
    "newfolder = input('새로 생성할 디렉터리 이름을 입력하세요: ')\n",
    "\n",
    "try:\n",
    "    os.mkdir(newfolder)\n",
    "    print('[%s] 디렉터리를 새로 생성했습니다.' %newfolder)\n",
    "except Exception as e:\n",
    "    print(e)"
   ]
  },
  {
   "cell_type": "markdown",
   "metadata": {},
   "source": [
    "### 디렉터리 제거하기(osrmdir) "
   ]
  },
  {
   "cell_type": "code",
   "execution_count": null,
   "metadata": {},
   "outputs": [],
   "source": [
    "# 디렉터리 제거하기(osrmdir)\n",
    "import os\n",
    "\n",
    "target_folder = newfolder\n",
    "k = input('[%s] 디렉터리를 삭제하겠습니까? (y/n)' %target_folder)\n",
    "if k == 'y':\n",
    "    try:\n",
    "        os.rmdir(target_folder)\n",
    "        print('[%s] 디렉터리를 삭제했습니다.' %target_folder)\n",
    "    except Exception as e:\n",
    "        print(e)"
   ]
  },
  {
   "cell_type": "markdown",
   "metadata": {},
   "source": [
    "### 하위 디렉터리 및 파일 전체 삭제하기(shutil.rmtree)"
   ]
  },
  {
   "cell_type": "code",
   "execution_count": null,
   "metadata": {},
   "outputs": [],
   "source": [
    "# 하위 디렉터리 및 파일 전체 삭제하기(shutil.rmtree)\n",
    "import shutil\n",
    "import os\n",
    "\n",
    "target_folder = '/Temp/zzz'\n",
    "print('[%s] 하위 모든 디렉터리 및 파일들을 삭제합니다.' %target_folder)\n",
    "\n",
    "for file in os.listdir(target_folder):\n",
    "    print(file)\n",
    "k = input('[%s]를 삭제하겠습니까? (y/n) ' %target_folder)\n",
    "\n",
    "if k == 'y':\n",
    "    try:\n",
    "        shutil.rmtree(target_folder)\n",
    "        print('[%s]의 모든 하위 디렉터리와 파일들을 삭제했습니다.' %target_folder)\n",
    "    except Exception as e:\n",
    "        print(e)"
   ]
  },
  {
   "cell_type": "markdown",
   "metadata": {},
   "source": [
    "### 파일이 존재하는지 체크하기(os.pathexists)"
   ]
  },
  {
   "cell_type": "code",
   "execution_count": null,
   "metadata": {},
   "outputs": [],
   "source": [
    "# 파일이 존재하는지 체크하기(os.pathexists)\n",
    "import os\n",
    "from os.path import exists\n",
    "\n",
    "dir_name = input('새로 생성할 디렉터리 이름을 입력하세요: ')\n",
    "\n",
    "if not exists(dir_name):\n",
    "    os.mkdir(dir_name)\n",
    "    print('[%s] 디렉터리를 생성했습니다.' %dir_name)\n",
    "else:\n",
    "    print('[%s]은(는) 이미 존재합니다.' %dir_name)"
   ]
  },
  {
   "cell_type": "markdown",
   "metadata": {},
   "source": [
    "### 파일인지 디렉터리인지 확인하기(os.pathisfile, os.pathisdir)"
   ]
  },
  {
   "cell_type": "code",
   "execution_count": null,
   "metadata": {},
   "outputs": [],
   "source": [
    "# 파일인지 디렉터리인지 확인하기(os.pathisfile, os.pathisdir)\n",
    "import os\n",
    "from os.path import exists, isdir, isfile\n",
    "\n",
    "# files = os.listdir('..')\n",
    "files = os.listdir()\n",
    "\n",
    "for file in files:\n",
    "    if isdir(file):\n",
    "        print('DIR: %s' %file)\n",
    "\n",
    "for file in files:\n",
    "    if isfile(file):\n",
    "        print('FILE: %s' %file)"
   ]
  },
  {
   "cell_type": "code",
   "execution_count": null,
   "metadata": {},
   "outputs": [],
   "source": []
  }
 ],
 "metadata": {
  "kernelspec": {
   "display_name": "Python 3",
   "language": "python",
   "name": "python3"
  },
  "language_info": {
   "codemirror_mode": {
    "name": "ipython",
    "version": 3
   },
   "file_extension": ".py",
   "mimetype": "text/x-python",
   "name": "python",
   "nbconvert_exporter": "python",
   "pygments_lexer": "ipython3",
   "version": "3.8.5"
  }
 },
 "nbformat": 4,
 "nbformat_minor": 4
}
