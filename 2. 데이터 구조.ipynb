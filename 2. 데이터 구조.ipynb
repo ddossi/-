{
 "cells": [
  {
   "cell_type": "markdown",
   "metadata": {},
   "source": [
    "# Python Review : 데이터구조형"
   ]
  },
  {
   "cell_type": "markdown",
   "metadata": {},
   "source": [
    "## 데이터 타입에 대한 이해가 중요 !!\n",
    ">\n",
    ">- 숫자형 : int, float\n",
    ">- 문자형 : str\n",
    ">- 논리형 : boolean\n",
    ">- 구조형 : list, tuple, set, dict ==> 공통점:elements\n",
    ">- None\n",
    ">- function 도 하나의 데이터 타입이다."
   ]
  },
  {
   "cell_type": "markdown",
   "metadata": {},
   "source": [
    "## Wrap-up\n",
    ">\n",
    ">- list : elements, order, duplicate\n",
    ">- tuple : elements, order, duplicate, 변경 X\n",
    ">- set : elements, order X, duplicate X\n",
    ">- dict : elements, order X, key, value, key duplicate X"
   ]
  },
  {
   "cell_type": "markdown",
   "metadata": {},
   "source": [
    "## 1. list - elements O, order O, duplicate O"
   ]
  },
  {
   "cell_type": "code",
   "execution_count": 1,
   "metadata": {},
   "outputs": [],
   "source": [
    "animals = [\"dog\", \"cat\", \"sheep\", \"duck\", \"cow\"]"
   ]
  },
  {
   "cell_type": "code",
   "execution_count": 2,
   "metadata": {},
   "outputs": [
    {
     "data": {
      "text/plain": [
       "'dog'"
      ]
     },
     "execution_count": 2,
     "metadata": {},
     "output_type": "execute_result"
    }
   ],
   "source": [
    "animals[0]"
   ]
  },
  {
   "cell_type": "code",
   "execution_count": 3,
   "metadata": {},
   "outputs": [
    {
     "data": {
      "text/plain": [
       "['cat', 'sheep', 'duck']"
      ]
     },
     "execution_count": 3,
     "metadata": {},
     "output_type": "execute_result"
    }
   ],
   "source": [
    "animals[1:4] #end는 항상 그 전까지만 표시된다."
   ]
  },
  {
   "cell_type": "code",
   "execution_count": 4,
   "metadata": {},
   "outputs": [
    {
     "data": {
      "text/plain": [
       "['dog', 'cat', 'sheep', 'duck', 'cow']"
      ]
     },
     "execution_count": 4,
     "metadata": {},
     "output_type": "execute_result"
    }
   ],
   "source": [
    "animals[:]"
   ]
  },
  {
   "cell_type": "code",
   "execution_count": 5,
   "metadata": {},
   "outputs": [
    {
     "data": {
      "text/plain": [
       "['dog', 'sheep', 'cow']"
      ]
     },
     "execution_count": 5,
     "metadata": {},
     "output_type": "execute_result"
    }
   ],
   "source": [
    "animals[::2]"
   ]
  },
  {
   "cell_type": "code",
   "execution_count": 6,
   "metadata": {},
   "outputs": [
    {
     "data": {
      "text/plain": [
       "'cow'"
      ]
     },
     "execution_count": 6,
     "metadata": {},
     "output_type": "execute_result"
    }
   ],
   "source": [
    "animals[-1]"
   ]
  },
  {
   "cell_type": "code",
   "execution_count": 7,
   "metadata": {},
   "outputs": [
    {
     "data": {
      "text/plain": [
       "['cow', 'duck', 'sheep', 'cat', 'dog']"
      ]
     },
     "execution_count": 7,
     "metadata": {},
     "output_type": "execute_result"
    }
   ],
   "source": [
    "animals[::-1]"
   ]
  },
  {
   "cell_type": "code",
   "execution_count": 8,
   "metadata": {},
   "outputs": [
    {
     "name": "stdout",
     "output_type": "stream",
     "text": [
      "dog\n",
      "cat\n",
      "sheep\n",
      "duck\n",
      "cow\n"
     ]
    }
   ],
   "source": [
    "for animal in animals:  \n",
    "    print(animal)"
   ]
  },
  {
   "cell_type": "code",
   "execution_count": 9,
   "metadata": {},
   "outputs": [
    {
     "name": "stdout",
     "output_type": "stream",
     "text": [
      "dog\n",
      "cat\n",
      "sheep\n",
      "duck\n",
      "cow\n"
     ]
    }
   ],
   "source": [
    "size = len(animals)\n",
    "for i in range(size):\n",
    "    animal = animals[i]\n",
    "    print(animal)"
   ]
  },
  {
   "cell_type": "code",
   "execution_count": 10,
   "metadata": {},
   "outputs": [
    {
     "name": "stdout",
     "output_type": "stream",
     "text": [
      "멤버1 ====> RM  \t(이름길이: 2)\n",
      "멤버2 ====> 슈가  \t(이름길이: 2)\n",
      "멤버3 ====> 진  \t(이름길이: 1)\n",
      "멤버4 ====> 제이홉  \t(이름길이: 3)\n",
      "멤버5 ====> 지민  \t(이름길이: 2)\n",
      "멤버6 ====> 뷔  \t(이름길이: 1)\n",
      "멤버7 ====> 정국  \t(이름길이: 2)\n"
     ]
    }
   ],
   "source": [
    "# for Ex1\n",
    "bts_members = ['RM', '슈가', '진', '제이홉', '지민', '뷔', '정국']\n",
    "num = 0\n",
    "\n",
    "for member in bts_members:\n",
    "    num += 1\n",
    "    print('멤버%d ====> %s  \\t(이름길이: %d)' %(num, member, len(member)))"
   ]
  },
  {
   "cell_type": "code",
   "execution_count": 11,
   "metadata": {},
   "outputs": [
    {
     "name": "stdout",
     "output_type": "stream",
     "text": [
      "멤버1 ====> RM  \t(이름길이: 2)\n",
      "멤버2 ====> 슈가  \t(이름길이: 2)\n",
      "멤버3 ====> 진  \t(이름길이: 1)\n",
      "멤버4 ====> 제이홉  \t(이름길이: 3)\n",
      "멤버5 ====> 지민  \t(이름길이: 2)\n",
      "멤버6 ====> 뷔  \t(이름길이: 1)\n",
      "멤버7 ====> 정국  \t(이름길이: 2)\n"
     ]
    }
   ],
   "source": [
    "# for Ex1\n",
    "bts_members = ['RM', '슈가', '진', '제이홉', '지민', '뷔', '정국']\n",
    "num = 0\n",
    "\n",
    "for member in bts_members:\n",
    "    num += 1\n",
    "    print('멤버{0} ====> {1}  \\t(이름길이: {2})'.format(num, member, len(member)))\n",
    "    #print('멤버{no} ====> {mb}  \\t(이름길이: {ln})'.format(no=num, mb=member, ln=len(member)))"
   ]
  },
  {
   "cell_type": "code",
   "execution_count": 12,
   "metadata": {},
   "outputs": [
    {
     "data": {
      "text/plain": [
       "['RM', '슈가', '진', 'J-hope', '지민', '뷔', '정국']"
      ]
     },
     "execution_count": 12,
     "metadata": {},
     "output_type": "execute_result"
    }
   ],
   "source": [
    "bts_members[3] = \"J-hope\"\n",
    "bts_members"
   ]
  },
  {
   "cell_type": "code",
   "execution_count": 13,
   "metadata": {},
   "outputs": [
    {
     "data": {
      "text/plain": [
       "list"
      ]
     },
     "execution_count": 13,
     "metadata": {},
     "output_type": "execute_result"
    }
   ],
   "source": [
    "type(bts_members)"
   ]
  },
  {
   "cell_type": "markdown",
   "metadata": {},
   "source": [
    "## Tuple"
   ]
  },
  {
   "cell_type": "code",
   "execution_count": 14,
   "metadata": {},
   "outputs": [],
   "source": [
    "girl_groups = ('트와이스', '레드벨벳', '에이핑크', '걸스데이', '우주소녀')"
   ]
  },
  {
   "cell_type": "code",
   "execution_count": 15,
   "metadata": {},
   "outputs": [
    {
     "data": {
      "text/plain": [
       "tuple"
      ]
     },
     "execution_count": 15,
     "metadata": {},
     "output_type": "execute_result"
    }
   ],
   "source": [
    "type(girl_groups)"
   ]
  },
  {
   "cell_type": "code",
   "execution_count": 16,
   "metadata": {},
   "outputs": [
    {
     "data": {
      "text/plain": [
       "'에이핑크'"
      ]
     },
     "execution_count": 16,
     "metadata": {},
     "output_type": "execute_result"
    }
   ],
   "source": [
    "girl_groups[2]"
   ]
  },
  {
   "cell_type": "code",
   "execution_count": 17,
   "metadata": {},
   "outputs": [
    {
     "ename": "TypeError",
     "evalue": "'tuple' object does not support item assignment",
     "output_type": "error",
     "traceback": [
      "\u001b[1;31m---------------------------------------------------------------------------\u001b[0m",
      "\u001b[1;31mTypeError\u001b[0m                                 Traceback (most recent call last)",
      "\u001b[1;32m<ipython-input-17-77e6fd380386>\u001b[0m in \u001b[0;36m<module>\u001b[1;34m\u001b[0m\n\u001b[1;32m----> 1\u001b[1;33m \u001b[0mgirl_groups\u001b[0m\u001b[1;33m[\u001b[0m\u001b[1;36m2\u001b[0m\u001b[1;33m]\u001b[0m \u001b[1;33m=\u001b[0m \u001b[1;34m'APINK'\u001b[0m \u001b[1;31m#튜플은 값을 바꿀 수 없다.\u001b[0m\u001b[1;33m\u001b[0m\u001b[1;33m\u001b[0m\u001b[0m\n\u001b[0m",
      "\u001b[1;31mTypeError\u001b[0m: 'tuple' object does not support item assignment"
     ]
    }
   ],
   "source": [
    "girl_groups[2] = 'APINK' #튜플은 값을 바꿀 수 없다."
   ]
  },
  {
   "cell_type": "code",
   "execution_count": 18,
   "metadata": {},
   "outputs": [
    {
     "data": {
      "text/plain": [
       "('트와이스', '레드벨벳', 'A-Pink', '걸스데이', '우주소녀')"
      ]
     },
     "execution_count": 18,
     "metadata": {},
     "output_type": "execute_result"
    }
   ],
   "source": [
    "#바꾸는 방법: list로 변환 후 수정\n",
    "girl_groups = list(girl_groups)\n",
    "girl_groups[2] ='A-Pink'\n",
    "girl_groups = tuple(girl_groups)\n",
    "\n",
    "girl_groups"
   ]
  },
  {
   "cell_type": "markdown",
   "metadata": {},
   "source": [
    "## 2. set (집합) - elements O, order X, duplicate X"
   ]
  },
  {
   "cell_type": "code",
   "execution_count": 19,
   "metadata": {},
   "outputs": [],
   "source": [
    "#beast = set([\"lion\", \"tiger\", \"wolf\", \"tiger\", \"lion\" ]) 동일한 코드\n",
    "beast = {\"lion\", \"tiger\", \"wolf\", \"tiger\", \"lion\"}"
   ]
  },
  {
   "cell_type": "code",
   "execution_count": 20,
   "metadata": {},
   "outputs": [
    {
     "data": {
      "text/plain": [
       "{'lion', 'tiger', 'wolf'}"
      ]
     },
     "execution_count": 20,
     "metadata": {},
     "output_type": "execute_result"
    }
   ],
   "source": [
    "beast"
   ]
  },
  {
   "cell_type": "code",
   "execution_count": 21,
   "metadata": {},
   "outputs": [
    {
     "data": {
      "text/plain": [
       "{'a', 'b', 'c', 'd', 'r'}"
      ]
     },
     "execution_count": 21,
     "metadata": {},
     "output_type": "execute_result"
    }
   ],
   "source": [
    "data = set('abracadabra')\n",
    "data"
   ]
  },
  {
   "cell_type": "code",
   "execution_count": 22,
   "metadata": {},
   "outputs": [
    {
     "data": {
      "text/plain": [
       "['a', 'b', 'c', 'd', 'r']"
      ]
     },
     "execution_count": 22,
     "metadata": {},
     "output_type": "execute_result"
    }
   ],
   "source": [
    "data = sorted(data)\n",
    "data"
   ]
  },
  {
   "cell_type": "markdown",
   "metadata": {},
   "source": [
    "## 3. dict - elements O, (key, value) O"
   ]
  },
  {
   "cell_type": "code",
   "execution_count": 23,
   "metadata": {},
   "outputs": [],
   "source": [
    "customer = {\n",
    "    \"name\"    : \"김진수\",\n",
    "    'gender'  : '남자',\n",
    "    \"email\"   : \"bigpycraft@gmail.com\",\n",
    "    \"company\" : \"빅파이크래프트\",\n",
    "    \"address\" : \"서울시 노원구 월계로\"\n",
    "}"
   ]
  },
  {
   "cell_type": "code",
   "execution_count": 24,
   "metadata": {},
   "outputs": [
    {
     "data": {
      "text/plain": [
       "dict_keys(['name', 'gender', 'email', 'company', 'address'])"
      ]
     },
     "execution_count": 24,
     "metadata": {},
     "output_type": "execute_result"
    }
   ],
   "source": [
    "customer.keys()"
   ]
  },
  {
   "cell_type": "code",
   "execution_count": 25,
   "metadata": {},
   "outputs": [
    {
     "data": {
      "text/plain": [
       "dict_values(['김진수', '남자', 'bigpycraft@gmail.com', '빅파이크래프트', '서울시 노원구 월계로'])"
      ]
     },
     "execution_count": 25,
     "metadata": {},
     "output_type": "execute_result"
    }
   ],
   "source": [
    "customer.values()"
   ]
  },
  {
   "cell_type": "code",
   "execution_count": 26,
   "metadata": {},
   "outputs": [
    {
     "name": "stdout",
     "output_type": "stream",
     "text": [
      "name\n",
      "gender\n",
      "email\n",
      "company\n",
      "address\n"
     ]
    }
   ],
   "source": [
    "for something in customer:\n",
    "    print(something)    # key값"
   ]
  },
  {
   "cell_type": "code",
   "execution_count": 27,
   "metadata": {},
   "outputs": [
    {
     "name": "stdout",
     "output_type": "stream",
     "text": [
      "name ==> 김진수\n",
      "gender ==> 남자\n",
      "email ==> bigpycraft@gmail.com\n",
      "company ==> 빅파이크래프트\n",
      "address ==> 서울시 노원구 월계로\n"
     ]
    }
   ],
   "source": [
    "for key in customer:\n",
    "    value = customer[key]\n",
    "    print(\"%s ==> %s\" %(key, value)) #value값"
   ]
  },
  {
   "cell_type": "code",
   "execution_count": 28,
   "metadata": {},
   "outputs": [
    {
     "data": {
      "text/plain": [
       "'hello, 김진수'"
      ]
     },
     "execution_count": 28,
     "metadata": {},
     "output_type": "execute_result"
    }
   ],
   "source": [
    "# String Formatting\n",
    "\"%s, %s\" % (\"hello\", \"김진수\")\n",
    "\n",
    "# pros : 쉽다.\n",
    "# cons : 일단은 내부적으로 치환되는 부분(%) 이 있을때 복잡"
   ]
  },
  {
   "cell_type": "code",
   "execution_count": 29,
   "metadata": {},
   "outputs": [
    {
     "data": {
      "text/plain": [
       "'Hi'"
      ]
     },
     "execution_count": 29,
     "metadata": {},
     "output_type": "execute_result"
    }
   ],
   "source": [
    "a = \"Hi\"\n",
    "b = \"Goodbye\"\n",
    "b\n",
    "a\n",
    "#쥬피터에서는 print를 사용하지 않으면 맨 마지막 변수만 출력\n",
    "#둘 다 출력하기 위해선 print 써줘야 한다."
   ]
  },
  {
   "cell_type": "code",
   "execution_count": 30,
   "metadata": {},
   "outputs": [
    {
     "data": {
      "text/plain": [
       "(1, 2)"
      ]
     },
     "execution_count": 30,
     "metadata": {},
     "output_type": "execute_result"
    }
   ],
   "source": [
    "(a,b) = (1,2)\n",
    "# a,b = 1,2 #Tuple은 ()를 생략 가능!!\n",
    "a,b"
   ]
  },
  {
   "cell_type": "code",
   "execution_count": 31,
   "metadata": {},
   "outputs": [
    {
     "data": {
      "text/plain": [
       "'김진수: 안녕하세요, 김진수'"
      ]
     },
     "execution_count": 31,
     "metadata": {},
     "output_type": "execute_result"
    }
   ],
   "source": [
    "\"{name}: {greeting}, {name}\".format(\n",
    "    greeting = \"안녕하세요\",   # kwargs\n",
    "    name = \"김진수\"\n",
    ")"
   ]
  },
  {
   "cell_type": "code",
   "execution_count": 32,
   "metadata": {},
   "outputs": [
    {
     "data": {
      "text/plain": [
       "dict_items([('name', '김진수'), ('gender', '남자'), ('email', 'bigpycraft@gmail.com'), ('company', '빅파이크래프트'), ('address', '서울시 노원구 월계로')])"
      ]
     },
     "execution_count": 32,
     "metadata": {},
     "output_type": "execute_result"
    }
   ],
   "source": [
    "customer.items() #튜플 형식으로 key, value 값을 뿌려줌"
   ]
  },
  {
   "cell_type": "code",
   "execution_count": 33,
   "metadata": {},
   "outputs": [
    {
     "name": "stdout",
     "output_type": "stream",
     "text": [
      "name 김진수\n",
      "gender 남자\n",
      "email bigpycraft@gmail.com\n",
      "company 빅파이크래프트\n",
      "address 서울시 노원구 월계로\n"
     ]
    }
   ],
   "source": [
    "for key, value in customer.items():\n",
    "    print(key, value)"
   ]
  },
  {
   "cell_type": "code",
   "execution_count": 34,
   "metadata": {},
   "outputs": [
    {
     "name": "stdout",
     "output_type": "stream",
     "text": [
      "('name', '김진수')\n",
      "('gender', '남자')\n",
      "('email', 'bigpycraft@gmail.com')\n",
      "('company', '빅파이크래프트')\n",
      "('address', '서울시 노원구 월계로')\n"
     ]
    }
   ],
   "source": [
    "for something in customer.items():\n",
    "    print(something)"
   ]
  },
  {
   "cell_type": "code",
   "execution_count": 35,
   "metadata": {},
   "outputs": [
    {
     "name": "stdout",
     "output_type": "stream",
     "text": [
      "name ==> 김진수\n",
      "gender ==> 남자\n",
      "email ==> bigpycraft@gmail.com\n",
      "company ==> 빅파이크래프트\n",
      "address ==> 서울시 노원구 월계로\n"
     ]
    }
   ],
   "source": [
    "for key, value in customer.items():\n",
    "    print(\"{key} ==> {value}\".format(\n",
    "        key   = key,\n",
    "        value = value,\n",
    "    ))"
   ]
  },
  {
   "cell_type": "code",
   "execution_count": 36,
   "metadata": {},
   "outputs": [
    {
     "name": "stdout",
     "output_type": "stream",
     "text": [
      "name     ==> 김진수\n",
      "gender   ==> 남자\n",
      "email    ==> bigpycraft@gmail.com\n",
      "company  ==> 빅파이크래프트\n",
      "address  ==> 서울시 노원구 월계로\n"
     ]
    }
   ],
   "source": [
    "for key, value in customer.items():\n",
    "    print(\"{key} {space} ==> {value}\".format(\n",
    "        key   = key,\n",
    "        space = ' '*(7-len(key)), #제일 긴 문자열이 company, address로 7글자\n",
    "        value = value,\n",
    "    ))"
   ]
  },
  {
   "cell_type": "markdown",
   "metadata": {},
   "source": [
    "## 4. tuple - elements O, order O, duplicate O, 변경될 수 있는가? X\n",
    ">\n",
    "- 변경되지 않는 자료형\n",
    "- 파이썬 내부적으로, 라이브러리 => dict!"
   ]
  },
  {
   "cell_type": "code",
   "execution_count": 37,
   "metadata": {},
   "outputs": [],
   "source": [
    "# 직사각형\n",
    "width = 100\n",
    "height = 200\n",
    "\n",
    "data = (100, 200)"
   ]
  },
  {
   "cell_type": "code",
   "execution_count": 38,
   "metadata": {},
   "outputs": [],
   "source": [
    "width, height = data    # data라고 하는 값 x"
   ]
  },
  {
   "cell_type": "code",
   "execution_count": 39,
   "metadata": {},
   "outputs": [],
   "source": [
    "def getArea(w, h):\n",
    "    area = w * h\n",
    "    return area"
   ]
  },
  {
   "cell_type": "code",
   "execution_count": 40,
   "metadata": {},
   "outputs": [
    {
     "data": {
      "text/plain": [
       "20000"
      ]
     },
     "execution_count": 40,
     "metadata": {},
     "output_type": "execute_result"
    }
   ],
   "source": [
    "area = getArea(*data)\n",
    "area"
   ]
  },
  {
   "cell_type": "markdown",
   "metadata": {},
   "source": [
    "## 실습\n",
    "\n",
    "### Step1. 데이터 읽어오기"
   ]
  },
  {
   "cell_type": "code",
   "execution_count": 41,
   "metadata": {},
   "outputs": [],
   "source": [
    "books = []\n",
    "books.append({'제목' :'파이썬 프로그램','출판연도':'2016','출판사':'A','쪽수':200,'추천유무':False})\n",
    "books.append({'제목' :'플랫폼 비즈니스','출판연도':'2013','출판사':'B','쪽수':584,'추천유무':True})\n",
    "books.append({'제목' :'빅데이터 마케팅','출판연도':'2014','출판사':'A','쪽수':296,'추천유무':True})\n",
    "books.append({'제목' :'외식경영 전문가','출판연도':'2010','출판사':'B','쪽수':526,'추천유무':False})\n",
    "books.append({'제목' :'십억만 벌어보자','출판연도':'2013','출판사':'A','쪽수':248,'추천유무':True})\n"
   ]
  },
  {
   "cell_type": "markdown",
   "metadata": {},
   "source": [
    "### Step2. 변수들을 선언 (입출력데이터 관련변수)\n",
    "\n",
    "### Step3. 비즈니스 로직 (데이터프로세싱 및 알고리즘)"
   ]
  },
  {
   "cell_type": "code",
   "execution_count": 42,
   "metadata": {},
   "outputs": [],
   "source": [
    "#Step2\n",
    "many_page = []\n",
    "recommends = []\n",
    "all_pages = 0\n",
    "pub_companies = set()\n",
    "\n",
    "#Step3\n",
    "for book in books:\n",
    "    if book[\"쪽수\"] > 250:\n",
    "        many_page.append(book[\"제목\"])\n",
    "\n",
    "    if book[\"추천유무\"] == True: #book[\"추천유무\"] 값 자체가 True라 book[\"추천유무\"]만 줘도 됨\n",
    "        recommends.append(book[\"제목\"])\n",
    "        \n",
    "    all_pages += book[\"쪽수\"]\n",
    "    \n",
    "    pub_companies.add(book[\"출판사\"])"
   ]
  },
  {
   "cell_type": "markdown",
   "metadata": {},
   "source": [
    "## Pythonic Code\n",
    "> Tip. 줄번호 보기: Esc + l (알파벳 L)"
   ]
  },
  {
   "cell_type": "code",
   "execution_count": 43,
   "metadata": {},
   "outputs": [],
   "source": [
    "many_page = [book[\"제목\"] for book in books if book[\"쪽수\"] > 250]\n",
    "recommends = [book[\"제목\"] for book in books if book[\"추천유무\"]]\n",
    "all_pages = sum([book[\"쪽수\"] for book in books])\n",
    "pub_companies = {book[\"출판사\"] for book in books}"
   ]
  },
  {
   "cell_type": "markdown",
   "metadata": {},
   "source": [
    "### Step4. 결과값 리포터 (화면 출력)"
   ]
  },
  {
   "cell_type": "code",
   "execution_count": 44,
   "metadata": {},
   "outputs": [
    {
     "name": "stdout",
     "output_type": "stream",
     "text": [
      " ### 도서 목록 출력 내용 ### \n",
      " __________________________________________________________________________________________\n",
      " 1. 쪽수가 250p 넘는 책 리스트: ['플랫폼 비즈니스', '빅데이터 마케팅', '외식경영 전문가']\n",
      " 2. 내가 추천하는 책 리스트:  ['플랫폼 비즈니스', '빅데이터 마케팅', '십억만 벌어보자']\n",
      " 3. 내가 읽은 책 전체 쪽수:  1854\n",
      " 4. 내가 읽은 책의 출판사 목록:  ['A', 'B']\n"
     ]
    }
   ],
   "source": [
    "#최종 보고서 출력\n",
    "print(\" ### 도서 목록 출력 내용 ### \\n\", \"_\"*90)\n",
    "print(\" 1. 쪽수가 250p 넘는 책 리스트:\", many_page)\n",
    "print(\" 2. 내가 추천하는 책 리스트: \", recommends)\n",
    "print(\" 3. 내가 읽은 책 전체 쪽수: \",all_pages)\n",
    "print(\" 4. 내가 읽은 책의 출판사 목록: \", sorted(pub_companies))"
   ]
  }
 ],
 "metadata": {
  "kernelspec": {
   "display_name": "Python 3",
   "language": "python",
   "name": "python3"
  },
  "language_info": {
   "codemirror_mode": {
    "name": "ipython",
    "version": 3
   },
   "file_extension": ".py",
   "mimetype": "text/x-python",
   "name": "python",
   "nbconvert_exporter": "python",
   "pygments_lexer": "ipython3",
   "version": "3.8.5"
  }
 },
 "nbformat": 4,
 "nbformat_minor": 4
}
